{
 "cells": [
  {
   "cell_type": "code",
   "execution_count": 1,
   "metadata": {},
   "outputs": [
    {
     "name": "stdout",
     "output_type": "stream",
     "text": [
      "Order price for max@gmail.com is 100\n",
      "Order price for lova@yandex.ru is 180.0\n",
      "Order price for german@sberbank.ru is 500\n",
      "Order price for german@sberbank.ru is 450.0\n"
     ]
    }
   ],
   "source": [
    "class Client():  \n",
    "    # Базовые данные  \n",
    "    def __init__(self, email, order_num, registration_year):  \n",
    "        self.email = email  \n",
    "        self.order_num = order_num  \n",
    "        self.registration_year = registration_year  \n",
    "        self.discount = 0  \n",
    "          \n",
    "    # Оформление заказа  \n",
    "    def make_order(self, price):  \n",
    "        self.update_discount()  \n",
    "        self.order_num += 1  \n",
    "        # Здесь было бы оформление заказа, но мы просто выведем его цену  \n",
    "        discounted_price = price * (1 - self.discount)   \n",
    "        print(f\"Order price for {self.email} is {discounted_price}\")  \n",
    "              \n",
    "    # Назначение скидки  \n",
    "    def update_discount(self):   \n",
    "        if self.registration_year < 2018 and self.order_num >= 5:  \n",
    "            self.discount = 0.1   \n",
    "  \n",
    "# Применение  \n",
    "          \n",
    "# Сделаем подобие базы  \n",
    "client_db = [   \n",
    "    Client(\"max@gmail.com\", 2, 2019),  \n",
    "    Client(\"lova@yandex.ru\", 10, 2015),  \n",
    "    Client(\"german@sberbank.ru\", 4, 2017)  \n",
    "] \n",
    "  \n",
    "# Сгенерируем заказы  \n",
    "client_db[0].make_order(100)  \n",
    "# => Order price for max@gmail.com is 100  \n",
    "  \n",
    "client_db[1].make_order(200)  \n",
    "# => Order price for lova@yandex.ru is 180.0  \n",
    "  \n",
    "client_db[2].make_order(500)  \n",
    "# => Order price for german@sberbank.ru is 500  \n",
    "  \n",
    "client_db[2].make_order(500)  \n",
    "# => Order price for german@sberbank.ru is 450.0 "
   ]
  },
  {
   "cell_type": "code",
   "execution_count": 2,
   "metadata": {},
   "outputs": [
    {
     "name": "stdout",
     "output_type": "stream",
     "text": [
      "[1.0, 17.0, 4.0, 0.0, 8.0]\n",
      "6.892024376045111\n",
      "4.0\n"
     ]
    }
   ],
   "source": [
    "import statistics  \n",
    "  \n",
    "class DataFrame():  \n",
    "    def __init__(self, column, fill_value=0):  \n",
    "        # Инициализируем атрибуты  \n",
    "        self.column = column  \n",
    "        self.fill_value = fill_value  \n",
    "        # Заполним пропуски  \n",
    "        self.fill_missed()  \n",
    "        # Конвертируем все элементы в числа  \n",
    "        self.to_float()  \n",
    "          \n",
    "    def fill_missed(self):  \n",
    "        for i, value in enumerate(self.column):  \n",
    "            if value is None or value == '':  \n",
    "                self.column[i] = self.fill_value  \n",
    "                  \n",
    "    def to_float(self):  \n",
    "        self.column = [float(value) for value in self.column]  \n",
    "      \n",
    "    def median(self):  \n",
    "        return statistics.median(self.column)  \n",
    "      \n",
    "    def mean(self):  \n",
    "        return statistics.mean(self.column)  \n",
    "      \n",
    "    def deviation(self):  \n",
    "        return statistics.stdev(self.column)  \n",
    "      \n",
    "# Воспользуемся классом  \n",
    "df = DataFrame([\"1\", 17, 4, None, 8])  \n",
    "  \n",
    "print(df.column)  \n",
    "# => [1.0, 17.0, 4.0, 0.0, 8.0]  \n",
    "print(df.deviation())  \n",
    "# => 6.89  \n",
    "print(df.median())  \n",
    "# => 4.0  "
   ]
  },
  {
   "cell_type": "code",
   "execution_count": 3,
   "metadata": {},
   "outputs": [
    {
     "name": "stdout",
     "output_type": "stream",
     "text": [
      "{'perfomance': [10, 20, 10], 'clients': {'Romashka': 10, 'Vector': 34}}\n"
     ]
    }
   ],
   "source": [
    "import pickle  \n",
    "from datetime import datetime  \n",
    "from os import path  \n",
    "  \n",
    "class Dumper():  \n",
    "    def __init__(self, archive_dir=\"archive/\"):  \n",
    "        self.archive_dir = archive_dir  \n",
    "          \n",
    "    def dump(self, data):  \n",
    "        # Библиотека pickle позволяет доставать и класть объекты в файл  \n",
    "        with open(self.get_file_name(), 'wb') as file:  \n",
    "            pickle.dump(data, file)  \n",
    "              \n",
    "    def load_for_day(self, day):  \n",
    "        file_name = path.join(self.archive_dir, day + \".pkl\")   \n",
    "        with open(file_name, 'rb') as file:  \n",
    "            sets = pickle.load(file)  \n",
    "        return sets  \n",
    "          \n",
    "    # возвращает корректное имя для файла   \n",
    "    def get_file_name(self):   \n",
    "        today = datetime.now().strftime(\"%y-%m-%d\")   \n",
    "        return path.join(self.archive_dir, today + \".pkl\")      \n",
    "      \n",
    "# Пример использования  \n",
    "  \n",
    "data = {  \n",
    "    'perfomance': [10, 20, 10],  \n",
    "    'clients': {\"Romashka\": 10, \"Vector\": 34}  \n",
    "}  \n",
    "  \n",
    "dumper = Dumper()  \n",
    "  \n",
    "# Сохраним данные  \n",
    "dumper.dump(data)  \n",
    "  \n",
    "# Восстановим для сегодняшней даты  \n",
    "file_name = datetime.now().strftime(\"%y-%m-%d\")\n",
    "restored_data = dumper.load_for_day(file_name)\n",
    "print(restored_data)  \n",
    "# => {'perfomance': [10, 20, 10], 'clients': {'Romashka': 10, 'Vector': 34}} "
   ]
  },
  {
   "cell_type": "markdown",
   "metadata": {},
   "source": [
    "## Применение ООП для работы с файлами"
   ]
  },
  {
   "cell_type": "code",
   "execution_count": 4,
   "metadata": {},
   "outputs": [],
   "source": [
    "import os "
   ]
  },
  {
   "cell_type": "markdown",
   "metadata": {},
   "source": [
    "#### ПУТЬ К ФАЙЛУ \n",
    "##### Получить текущий путь"
   ]
  },
  {
   "cell_type": "code",
   "execution_count": 5,
   "metadata": {},
   "outputs": [
    {
     "name": "stdout",
     "output_type": "stream",
     "text": [
      "/Users/urijdrondin/Desktop/DS/SkillFactory_DS/Принципы ООП\n"
     ]
    }
   ],
   "source": [
    "start_path = os.getcwd()\n",
    "print(start_path)"
   ]
  },
  {
   "cell_type": "markdown",
   "metadata": {},
   "source": [
    "##### Подняться на директорию выше"
   ]
  },
  {
   "cell_type": "code",
   "execution_count": 6,
   "metadata": {},
   "outputs": [
    {
     "data": {
      "text/plain": [
       "'/Users/urijdrondin/Desktop/DS/SkillFactory_DS'"
      ]
     },
     "execution_count": 6,
     "metadata": {},
     "output_type": "execute_result"
    }
   ],
   "source": [
    "os.chdir(\"..\") # подняться на один уровень выше\n",
    "os.getcwd() "
   ]
  },
  {
   "cell_type": "code",
   "execution_count": 7,
   "metadata": {},
   "outputs": [
    {
     "data": {
      "text/plain": [
       "'/Users/urijdrondin/Desktop/DS/SkillFactory_DS/Принципы ООП'"
      ]
     },
     "execution_count": 7,
     "metadata": {},
     "output_type": "execute_result"
    }
   ],
   "source": [
    "os.chdir(start_path)\n",
    "os.getcwd()"
   ]
  },
  {
   "cell_type": "markdown",
   "metadata": {},
   "source": [
    "##### С помощью функции os.listdir() можно получить весь список файлов, находящихся в директории"
   ]
  },
  {
   "cell_type": "code",
   "execution_count": 8,
   "metadata": {},
   "outputs": [
    {
     "name": "stdout",
     "output_type": "stream",
     "text": [
      "['.DS_Store', 'Принципы ООП.ipynb', 'archive', 'Принципы ООП_home.ipynb', 'helpers']\n",
      "Файл отсутствует в данной директории\n"
     ]
    }
   ],
   "source": [
    "print(os.listdir()) # ['SnapchatLoader', 'FBLoader', 'tmp.py', '.gitignore', 'venv', '.git']\n",
    "\n",
    "if 'tmp.py' not in os.listdir():\n",
    "    print(\"Файл отсутствует в данной директории\")"
   ]
  },
  {
   "cell_type": "markdown",
   "metadata": {},
   "source": [
    "##### Для того чтобы склеивать пути с учётом особенностей ОС, следует использовать функцию os.path.join()"
   ]
  },
  {
   "cell_type": "code",
   "execution_count": 9,
   "metadata": {},
   "outputs": [
    {
     "name": "stdout",
     "output_type": "stream",
     "text": [
      "/Users/urijdrondin/Desktop/DS/SkillFactory_DS/Принципы ООП\n",
      "/Users/urijdrondin/Desktop/DS/SkillFactory_DS/Принципы ООП/test\n"
     ]
    }
   ],
   "source": [
    "# соединяет пути с учётом особенностей операционной системы\n",
    "print(start_path)\n",
    "print(os.path.join(start_path, 'test'))"
   ]
  },
  {
   "cell_type": "markdown",
   "metadata": {},
   "source": [
    "##### Функция, которая принимает от пользователя путь и выводит всю информацию о содержимом этой папки"
   ]
  },
  {
   "cell_type": "code",
   "execution_count": 10,
   "metadata": {},
   "outputs": [
    {
     "name": "stdout",
     "output_type": "stream",
     "text": [
      "Текущая директория /Users/urijdrondin/Desktop/DS/SkillFactory_DS/Принципы ООП\n",
      "---\n",
      "Список папок ['archive', 'helpers']\n",
      "---\n",
      "Список файлов ['.DS_Store', 'Принципы ООП.ipynb', 'Принципы ООП_home.ipynb']\n",
      "---\n",
      "Все пути:\n",
      "Файл  /Users/urijdrondin/Desktop/DS/SkillFactory_DS/Принципы ООП/.DS_Store\n",
      "Файл  /Users/urijdrondin/Desktop/DS/SkillFactory_DS/Принципы ООП/Принципы ООП.ipynb\n",
      "Файл  /Users/urijdrondin/Desktop/DS/SkillFactory_DS/Принципы ООП/Принципы ООП_home.ipynb\n",
      "Папка  /Users/urijdrondin/Desktop/DS/SkillFactory_DS/Принципы ООП/archive\n",
      "Папка  /Users/urijdrondin/Desktop/DS/SkillFactory_DS/Принципы ООП/helpers\n",
      "===\n",
      "Текущая директория /Users/urijdrondin/Desktop/DS/SkillFactory_DS/Принципы ООП/archive\n",
      "---\n",
      "Папок нет\n",
      "---\n",
      "Список файлов ['23-09-04.pkl', '23-09-03.pkl']\n",
      "---\n",
      "Файл  /Users/urijdrondin/Desktop/DS/SkillFactory_DS/Принципы ООП/archive/23-09-04.pkl\n",
      "Файл  /Users/urijdrondin/Desktop/DS/SkillFactory_DS/Принципы ООП/archive/23-09-03.pkl\n",
      "===\n",
      "Текущая директория /Users/urijdrondin/Desktop/DS/SkillFactory_DS/Принципы ООП/helpers\n",
      "---\n",
      "Список папок ['__pycache__']\n",
      "---\n",
      "Список файлов ['client.py', '__init__.py', 'dumper.py', 'data_frame.py']\n",
      "---\n",
      "Все пути:\n",
      "Файл  /Users/urijdrondin/Desktop/DS/SkillFactory_DS/Принципы ООП/helpers/client.py\n",
      "Файл  /Users/urijdrondin/Desktop/DS/SkillFactory_DS/Принципы ООП/helpers/__init__.py\n",
      "Файл  /Users/urijdrondin/Desktop/DS/SkillFactory_DS/Принципы ООП/helpers/dumper.py\n",
      "Файл  /Users/urijdrondin/Desktop/DS/SkillFactory_DS/Принципы ООП/helpers/data_frame.py\n",
      "Папка  /Users/urijdrondin/Desktop/DS/SkillFactory_DS/Принципы ООП/helpers/__pycache__\n",
      "===\n",
      "Текущая директория /Users/urijdrondin/Desktop/DS/SkillFactory_DS/Принципы ООП/helpers/__pycache__\n",
      "---\n",
      "Папок нет\n",
      "---\n",
      "Список файлов ['__init__.cpython-39.pyc', 'dumper.cpython-39.pyc', 'data_frame.cpython-39.pyc', 'client.cpython-39.pyc']\n",
      "---\n",
      "Файл  /Users/urijdrondin/Desktop/DS/SkillFactory_DS/Принципы ООП/helpers/__pycache__/__init__.cpython-39.pyc\n",
      "Файл  /Users/urijdrondin/Desktop/DS/SkillFactory_DS/Принципы ООП/helpers/__pycache__/dumper.cpython-39.pyc\n",
      "Файл  /Users/urijdrondin/Desktop/DS/SkillFactory_DS/Принципы ООП/helpers/__pycache__/data_frame.cpython-39.pyc\n",
      "Файл  /Users/urijdrondin/Desktop/DS/SkillFactory_DS/Принципы ООП/helpers/__pycache__/client.cpython-39.pyc\n",
      "===\n"
     ]
    }
   ],
   "source": [
    "import os\n",
    "\n",
    "def walk_desc(path=None):\n",
    "    start_path = path if path is not None else os.getcwd()\n",
    "\n",
    "    for root, dirs, files in os.walk(start_path):\n",
    "        print(\"Текущая директория\", root)\n",
    "        print(\"---\")\n",
    "\n",
    "        if dirs:\n",
    "            print(\"Список папок\", dirs)\n",
    "        else:\n",
    "            print(\"Папок нет\")\n",
    "        print(\"---\")\n",
    "\n",
    "        if files:\n",
    "            print(\"Список файлов\", files)\n",
    "        else:\n",
    "            print(\"Файлов нет\")\n",
    "        print(\"---\")\n",
    "\n",
    "        if files and dirs:\n",
    "            print(\"Все пути:\")\n",
    "        for f in files:\n",
    "            print(\"Файл \", os.path.join(root, f))\n",
    "        for d in dirs:\n",
    "            print(\"Папка \", os.path.join(root, d))\n",
    "        print(\"===\")\n",
    "\n",
    "walk_desc()"
   ]
  },
  {
   "cell_type": "markdown",
   "metadata": {},
   "source": [
    "#### РАБОТА С ФАЙЛАМИ\n",
    "\n",
    "##### Для того чтобы начать работать с файлом, надо его открыть с помощью команды специальной функции open"
   ]
  },
  {
   "cell_type": "markdown",
   "metadata": {},
   "source": [
    "f = open('path/to/file', 'filemode', encoding='utf8')\n",
    "- путь к файлу может быть относительным или абсолютным\n",
    "- режим, в котором файл нужно открывать\n",
    "- указание, в какой кодировке файл записан\n"
   ]
  },
  {
   "cell_type": "code",
   "execution_count": 12,
   "metadata": {},
   "outputs": [
    {
     "data": {
      "text/plain": [
       "21"
      ]
     },
     "execution_count": 12,
     "metadata": {},
     "output_type": "execute_result"
    }
   ],
   "source": [
    "f = open('test.txt', 'w', encoding='utf8')\n",
    "\n",
    "# Запишем в файл строку\n",
    "f.write(\"This is a test string\\n\")\n",
    "f.write(\"This is a new string\\n\")"
   ]
  },
  {
   "cell_type": "code",
   "execution_count": 13,
   "metadata": {},
   "outputs": [],
   "source": [
    "# обязательно нужно закрыть файл, иначе он будет заблокирован ОС\n",
    "f.close()"
   ]
  },
  {
   "cell_type": "code",
   "execution_count": 14,
   "metadata": {},
   "outputs": [],
   "source": [
    "# Откроем файл для чтения\n",
    "f = open('test.txt', 'r', encoding='utf8')"
   ]
  },
  {
   "cell_type": "markdown",
   "metadata": {},
   "source": [
    "f.read(n) — операция, читающая с текущего места n символов если файл открыт в t режиме, или n байт, если файл открыт в b режиме, и возвращающая прочитанную информацию."
   ]
  },
  {
   "cell_type": "code",
   "execution_count": 15,
   "metadata": {},
   "outputs": [
    {
     "name": "stdout",
     "output_type": "stream",
     "text": [
      "This is a \n"
     ]
    }
   ],
   "source": [
    "print(f.read(10))"
   ]
  },
  {
   "cell_type": "code",
   "execution_count": 16,
   "metadata": {},
   "outputs": [
    {
     "data": {
      "text/plain": [
       "'test string\\nThis is a new string\\n'"
      ]
     },
     "execution_count": 16,
     "metadata": {},
     "output_type": "execute_result"
    }
   ],
   "source": [
    "# считали остаток файла\n",
    "f.read()"
   ]
  },
  {
   "cell_type": "code",
   "execution_count": 17,
   "metadata": {},
   "outputs": [],
   "source": [
    "# обязательно закрываем файл\n",
    "f.close()"
   ]
  },
  {
   "cell_type": "markdown",
   "metadata": {},
   "source": [
    "##### ЧТЕНИЕ И ЗАПИСЬ ПОСТРОЧНО\n",
    "\n",
    "- writelines — записывает список строк в файл;\n",
    "- readline — считывает из файла одну строку и возвращает её;\n",
    "- readlines — считывает из файла все строки в список и возвращает их."
   ]
  },
  {
   "cell_type": "code",
   "execution_count": 18,
   "metadata": {},
   "outputs": [],
   "source": [
    "f = open('test.txt', 'a', encoding='utf8') # открываем файл на дозапись\n",
    "\n",
    "sequence = [\"other string\\n\", \"123\\n\", \"test test\\n\"]\n",
    "f.writelines(sequence) # берёт строки из sequence и записывает в файл (без переносов)\n",
    "\n",
    "f.close()"
   ]
  },
  {
   "cell_type": "code",
   "execution_count": 19,
   "metadata": {},
   "outputs": [
    {
     "name": "stdout",
     "output_type": "stream",
     "text": [
      "['This is a test string\\n', 'This is a new string\\n', 'other string\\n', '123\\n', 'test test\\n']\n"
     ]
    }
   ],
   "source": [
    "f = open('test.txt', 'r', encoding='utf8')\n",
    "\n",
    "print(f.readlines()) # считывает все строки в список и возвращает список\n",
    "\n",
    "f.close()"
   ]
  },
  {
   "cell_type": "code",
   "execution_count": 20,
   "metadata": {},
   "outputs": [
    {
     "name": "stdout",
     "output_type": "stream",
     "text": [
      "This is a test string\n",
      "\n",
      "This\n",
      " is a new string\n",
      "\n"
     ]
    }
   ],
   "source": [
    "f = open('test.txt', 'r', encoding='utf8')\n",
    "\n",
    "print(f.readline()) # This is a test string\n",
    "print(f.read(4)) # This\n",
    "print(f.readline()) # is a new string\n",
    "\n",
    "f.close()"
   ]
  },
  {
   "cell_type": "markdown",
   "metadata": {},
   "source": [
    "##### ФАЙЛ КАК ИТЕРАТОР"
   ]
  },
  {
   "cell_type": "code",
   "execution_count": 21,
   "metadata": {},
   "outputs": [
    {
     "name": "stdout",
     "output_type": "stream",
     "text": [
      "This is a test string\n",
      "This is a new string\n",
      "other string\n",
      "123\n",
      "test test\n"
     ]
    }
   ],
   "source": [
    "f = open('test.txt')  # можно перечислять строки в файле\n",
    "for line in f:\n",
    "    print(line, end='')\n",
    "\n",
    "# This is a test string\n",
    "# This is a new string\n",
    "# other string\n",
    "# 123\n",
    "# test test\n",
    "\n",
    "f.close()"
   ]
  },
  {
   "cell_type": "markdown",
   "metadata": {},
   "source": [
    "##### МЕНЕДЖЕР КОНТЕКСТА WITH\n",
    "- Для явного указания места работы с файлом, а также чтобы не забывать закрывать файл после обработки, существует менеджер контекста with."
   ]
  },
  {
   "cell_type": "code",
   "execution_count": 23,
   "metadata": {},
   "outputs": [],
   "source": [
    "# В блоке менеджера контекста открытый файл «жив» и с ним можно работать. При выходе из блока файл закрывается.\n",
    "with open(\"test.txt\", 'rb') as f:\n",
    "    a = f.read(10)\n",
    "    b = f.read(23)\n",
    "\n",
    "# f.read(3) # Error!"
   ]
  },
  {
   "cell_type": "code",
   "execution_count": 26,
   "metadata": {},
   "outputs": [],
   "source": [
    "with open(\"/Users/urijdrondin/Desktop/input.txt\", \"r\") as input_file:\n",
    "    with open(\"output.txt\", \"w\") as output_file:\n",
    "        for line in input_file:\n",
    "            output_file.write(line)"
   ]
  },
  {
   "cell_type": "markdown",
   "metadata": {},
   "source": [
    "## Исключения\n",
    "- В блоке try помещается «опасный» кусок кода, который может вызывать исключения, а в блоке except указывается класс ошибки, которую мы хотим отловить, а затем помещается код, который нужно выполнить в случае возникновении ошибки"
   ]
  },
  {
   "cell_type": "code",
   "execution_count": 27,
   "metadata": {},
   "outputs": [
    {
     "name": "stdout",
     "output_type": "stream",
     "text": [
      "Перед исключением\n",
      "2.0\n",
      "После исключения\n"
     ]
    }
   ],
   "source": [
    "print(\"Перед исключением\")\n",
    "# теперь пользователь сам вводит числа для деления\n",
    "a = int(input(\"a: \"))\n",
    "b = int(input(\"b: \"))\n",
    "c = a / b  # здесь может возникнуть исключение деления на ноль\n",
    "print(c)  # печатаем c = a / b, если всё хорошо\n",
    "print(\"После исключения\")"
   ]
  },
  {
   "cell_type": "code",
   "execution_count": 28,
   "metadata": {},
   "outputs": [
    {
     "name": "stdout",
     "output_type": "stream",
     "text": [
      "Перед исключением\n",
      "division by zero\n",
      "После исключения\n",
      "После После исключения\n"
     ]
    }
   ],
   "source": [
    "try:  # добавляем конструкцию try-except для отлова ошибки\n",
    "    print(\"Перед исключением\")\n",
    "    # теперь пользователь сам вводит числа для деления\n",
    "    a = int(input(\"a: \"))\n",
    "    b = int(input(\"b: \"))\n",
    "    c = a / b  # здесь может возникнуть исключение деления на ноль\n",
    "    print(c)  # печатаем c = a / b, если всё хорошо\n",
    "except ZeroDivisionError as e: # добавляем тип именно той ошибки, которую хотим отловить     \n",
    "    print(e)  # выводим информацию об ошибке\n",
    "    print(\"После исключения\")\n",
    " \n",
    "print(\"После После исключения\")"
   ]
  },
  {
   "cell_type": "code",
   "execution_count": 30,
   "metadata": {},
   "outputs": [],
   "source": [
    "# Можно так\n",
    "#try:\n",
    "    # Ваш код\n",
    "#except # Ошибка:\n",
    "    # Код отлова\n",
    "#else:\n",
    "    #  Код, который выполнится, если всё хорошо прошло в блоке try\n",
    "#finally:\n",
    "    # Код, который выполнится в любом случае"
   ]
  },
  {
   "cell_type": "code",
   "execution_count": 32,
   "metadata": {},
   "outputs": [
    {
     "name": "stdout",
     "output_type": "stream",
     "text": [
      "Перед исключением\n",
      "После исключения\n",
      "Finally на месте\n",
      "После После исключения\n"
     ]
    }
   ],
   "source": [
    "try:\n",
    "    print(\"Перед исключением\")\n",
    "    a = int(input(\"a: \"))\n",
    "    b = int(input(\"b: \"))\n",
    "    c = a / b\n",
    "    print(c)  # печатаем c = a / b если всё хорошо\n",
    "except ZeroDivisionError as e:\n",
    "    print(\"После исключения\")\n",
    "else:  # код в блоке else выполняется только в том случае, если код в блоке try выполнился успешно (т. е. не вылетело никакого исключения).\n",
    "    print(\"Всё отлично\")\n",
    "finally:  # код в блоке finally выполнится в любом случае, при выходе из try-except\n",
    "    print(\"Finally на месте\")\n",
    " \n",
    "print(\"После После исключения\")"
   ]
  },
  {
   "cell_type": "markdown",
   "metadata": {},
   "source": [
    "##### Можно вызывать ошибки самостоятельно с помощью конструкции raise"
   ]
  },
  {
   "cell_type": "code",
   "execution_count": 33,
   "metadata": {},
   "outputs": [
    {
     "name": "stdout",
     "output_type": "stream",
     "text": [
      "Тебе 21 лет!\n"
     ]
    }
   ],
   "source": [
    "age = int(input(\"Сколько тебе лет?\"))\n",
    " \n",
    "if age > 100 or age <= 0:\n",
    "    raise ValueError(\"Тебе не может быть столько лет\")\n",
    " \n",
    "print(f\"Тебе {age} лет!\") # Возраст выводится, только если пользователь ввёл правильный возраст."
   ]
  },
  {
   "cell_type": "code",
   "execution_count": 34,
   "metadata": {},
   "outputs": [
    {
     "name": "stdout",
     "output_type": "stream",
     "text": [
      "Неправильный возраст\n"
     ]
    }
   ],
   "source": [
    "try:\n",
    "    age = int(input(\"Сколько тебе лет?\"))\n",
    "\n",
    "    if age > 100 or age <= 0:\n",
    "        raise ValueError(\"Тебе не может быть столько лет\")\n",
    "\n",
    "    # Возраст выводится, только если пользователь ввёл правильный возраст.\n",
    "    print(f\"Тебе {age} лет!\")\n",
    "except ValueError:\n",
    "    print(\"Неправильный возраст\")"
   ]
  },
  {
   "cell_type": "markdown",
   "metadata": {},
   "source": [
    "##### Тонкости обработки исключений."
   ]
  },
  {
   "cell_type": "code",
   "execution_count": 35,
   "metadata": {},
   "outputs": [
    {
     "name": "stdout",
     "output_type": "stream",
     "text": [
      "Hello from arithmetic error\n"
     ]
    }
   ],
   "source": [
    "try:\n",
    "    raise ZeroDivisionError  # возбуждаем исключение ZeroDivisionError\n",
    "except ArithmeticError:  # ловим его родителя\n",
    "    print(\"Hello from arithmetic error\")"
   ]
  },
  {
   "cell_type": "code",
   "execution_count": 36,
   "metadata": {},
   "outputs": [
    {
     "name": "stdout",
     "output_type": "stream",
     "text": [
      "Zero division error\n"
     ]
    }
   ],
   "source": [
    "try:\n",
    "    raise ZeroDivisionError\n",
    "except ZeroDivisionError:  # сначала пытаемся поймать потомка\n",
    "    print(\"Zero division error\")\n",
    "except ArithmeticError:  # потом ловим родителя\n",
    "    print(\"Arithmetic error\")"
   ]
  },
  {
   "cell_type": "code",
   "execution_count": 37,
   "metadata": {},
   "outputs": [
    {
     "name": "stdout",
     "output_type": "stream",
     "text": [
      "message\n"
     ]
    }
   ],
   "source": [
    "class MyException(Exception):  # создаём пустой класс исключения \n",
    "    pass\n",
    "\n",
    " \n",
    "try:\n",
    "    raise MyException(\"message\")  # поднимаем наше исключение\n",
    "except MyException as e:  # ловим его\n",
    "    print(e)  # выводим информацию об исключении"
   ]
  },
  {
   "cell_type": "code",
   "execution_count": 40,
   "metadata": {},
   "outputs": [
    {
     "name": "stdout",
     "output_type": "stream",
     "text": [
      "Errors: error\n",
      "message\n"
     ]
    }
   ],
   "source": [
    "class ParentException(Exception):  # создаём пустой класс исключения, наследуемся от exception\n",
    "    def __init__(self, message, error):  # допишем к нашему пустому классу конструктор, который будет печатать дополнительно в консоль информацию об ошибке.\n",
    "        super().__init__(message)  # помним про вызов конструктора родительского класса\n",
    "        print(f\"Errors: {error}\")  # печатаем ошибку\n",
    "\n",
    " \n",
    "class ChildException(ParentException):  # создаём пустой класс исключения-потомка, наследуемся от ParentException\n",
    "    def __init__(self, message, error):\n",
    "        super().__init__(message, error)\n",
    "\n",
    " \n",
    "try:\n",
    "    raise ChildException(\"message\", \"error\")  # поднимаем исключение-потомок, передаём дополнительный аргумент\n",
    "except ParentException as e:\n",
    "    print(e)  # выводим информацию об исключении"
   ]
  },
  {
   "cell_type": "markdown",
   "metadata": {},
   "source": [
    "Создайте класс Square. Добавьте в конструктор класса Square собственное исключение NonPositiveDigitException, унаследованное от ValueError, которое будет срабатывать каждый раз, когда сторона квадрата меньше или равна 0."
   ]
  },
  {
   "cell_type": "code",
   "execution_count": 41,
   "metadata": {},
   "outputs": [],
   "source": [
    "class NonPositiveDigitException(ValueError):\n",
    "    pass\n",
    " \n",
    "class Square:\n",
    "    def __init__(self, a):\n",
    "        if a <= 0:\n",
    "            raise NonPositiveDigitException('Неправильно указана сторона квадрата')"
   ]
  }
 ],
 "metadata": {
  "kernelspec": {
   "display_name": "Python 3",
   "language": "python",
   "name": "python3"
  },
  "language_info": {
   "codemirror_mode": {
    "name": "ipython",
    "version": 3
   },
   "file_extension": ".py",
   "mimetype": "text/x-python",
   "name": "python",
   "nbconvert_exporter": "python",
   "pygments_lexer": "ipython3",
   "version": "3.9.10"
  },
  "orig_nbformat": 4
 },
 "nbformat": 4,
 "nbformat_minor": 2
}
